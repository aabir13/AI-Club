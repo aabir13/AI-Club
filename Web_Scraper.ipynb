{
  "nbformat": 4,
  "nbformat_minor": 0,
  "metadata": {
    "colab": {
      "name": "Web Scraper.ipynb",
      "provenance": [],
      "include_colab_link": true
    },
    "kernelspec": {
      "name": "python3",
      "display_name": "Python 3"
    },
    "language_info": {
      "name": "python"
    }
  },
  "cells": [
    {
      "cell_type": "markdown",
      "metadata": {
        "id": "view-in-github",
        "colab_type": "text"
      },
      "source": [
        "<a href=\"https://colab.research.google.com/github/aabir13/AI-Club/blob/main/Web_Scraper.ipynb\" target=\"_parent\"><img src=\"https://colab.research.google.com/assets/colab-badge.svg\" alt=\"Open In Colab\"/></a>"
      ]
    },
    {
      "cell_type": "markdown",
      "source": [
        "# **Web Scraper**\n",
        "\n",
        "To scrape all the necessary content about Tata Steel from Money Control website!\n",
        "\n",
        "---"
      ],
      "metadata": {
        "id": "CmRL8MziNOP9"
      }
    },
    {
      "cell_type": "markdown",
      "source": [
        "### Peers\n",
        "Based on Net Sales and Net Profit we extract the Top 10 peer competitors!\n",
        "\n",
        "---"
      ],
      "metadata": {
        "id": "dPR_IFHu8tVY"
      }
    },
    {
      "cell_type": "code",
      "source": [
        "!pip3 install html-table-parser-python3"
      ],
      "metadata": {
        "colab": {
          "base_uri": "https://localhost:8080/"
        },
        "id": "ZqHCC299BCRg",
        "outputId": "e7ad6718-9ea4-46f0-c0d2-4d35bb7fc033"
      },
      "execution_count": 1,
      "outputs": [
        {
          "output_type": "stream",
          "name": "stdout",
          "text": [
            "Collecting html-table-parser-python3\n",
            "  Downloading html_table_parser_python3-0.2.0-py3-none-any.whl (15 kB)\n",
            "Installing collected packages: html-table-parser-python3\n",
            "Successfully installed html-table-parser-python3-0.2.0\n"
          ]
        }
      ]
    },
    {
      "cell_type": "code",
      "source": [
        "# Importing necessary libraries\n",
        "import urllib.request\n",
        "from html_table_parser.parser import HTMLTableParser\n",
        "import pandas as pd"
      ],
      "metadata": {
        "id": "10D1hlKrNeF2"
      },
      "execution_count": 2,
      "outputs": []
    },
    {
      "cell_type": "code",
      "source": [
        "# To read the binary contents of the html body\n",
        "def url_get_contents(url):\n",
        "  req = urllib.request.Request(url=url)\n",
        "  f = urllib.request.urlopen(req)\n",
        "  return f.read()"
      ],
      "metadata": {
        "id": "nK4LXciwA1U6"
      },
      "execution_count": 3,
      "outputs": []
    },
    {
      "cell_type": "code",
      "source": [
        "# Net Sales as per the latest Profit & Loss Account available: df1\n",
        "def Net_Sales():\n",
        "  xhtml = url_get_contents('https://www.moneycontrol.com/stocks/marketinfo/netsales/bse/iron-steel.html').decode('utf-8')\n",
        "  # html parser object\n",
        "  p = HTMLTableParser()\n",
        "  p.feed(xhtml)\n",
        "  # Obtaining the data from the required table into the dataframe\n",
        "  df1 = pd.DataFrame(p.tables[2])\n",
        "  df1 = df1.replace({\"Add to Watchlist\": \"\"}, regex=True)\n",
        "  df1 = df1.replace({\"Add to Portfolio\": \"\"}, regex=True)\n",
        "  # Obtaining the csv file\n",
        "  df1.to_csv('Net_Sales_Iron_and_Steel.csv')"
      ],
      "metadata": {
        "id": "Uh2gjKtnB6D3"
      },
      "execution_count": 4,
      "outputs": []
    },
    {
      "cell_type": "code",
      "source": [
        "# Net Profit as per the latest Profit & Loss Account available: df2\n",
        "def Net_Profit():\n",
        "  xhtml = url_get_contents('https://www.moneycontrol.com/stocks/marketinfo/netprofit/bse/iron-steel.html').decode('utf-8')\n",
        "  # html parser object\n",
        "  p = HTMLTableParser()\n",
        "  p.feed(xhtml)\n",
        "  # Obtaining the data from the required table into the dataframe\n",
        "  df2 = pd.DataFrame(p.tables[2])\n",
        "  df2 = df2.replace({\"Add to Watchlist\": \"\"}, regex=True)\n",
        "  df2 = df2.replace({\"Add to Portfolio\": \"\"}, regex=True)\n",
        "  # Obtaining the csv file\n",
        "  df2.to_csv('Net_Profit_Iron_and_Steel.csv')"
      ],
      "metadata": {
        "id": "a1ah8tCwFsR5"
      },
      "execution_count": 5,
      "outputs": []
    },
    {
      "cell_type": "code",
      "source": [
        "# Market capitalisation: df3\n",
        "def Market_Capitalization():\n",
        "  xhtml = url_get_contents('https://www.moneycontrol.com/stocks/marketinfo/marketcap/bse/iron-steel.html').decode('utf-8')\n",
        "  # html parser object\n",
        "  p = HTMLTableParser()\n",
        "  p.feed(xhtml)\n",
        "  # Obtaining the data from the required table into the dataframe\n",
        "  print('Iron & Steel')\n",
        "  print('Market capitalisation as per the latest Profit & Loss Account available')\n",
        "  df3 = pd.DataFrame(p.tables[1])\n",
        "  df3 = df3.replace({\"Add to Watchlist\": \"\"}, regex=True)\n",
        "  df3 = df3.replace({\"Add to Portfolio\": \"\"}, regex=True)\n",
        "  # Obtaining the csv file\n",
        "  df3.to_csv('Market_Capitalisation_Iron_and_Steel.csv')"
      ],
      "metadata": {
        "id": "itfgDuhrnG6a"
      },
      "execution_count": 6,
      "outputs": []
    },
    {
      "cell_type": "code",
      "source": [
        "# Total Assets as per the latest Balance Sheet available: df4\n",
        "def Total_Assets():\n",
        "  xhtml=url_get_contents('https://www.moneycontrol.com/stocks/marketinfo/totassets/bse/iron-steel.html').decode('utf-8')\n",
        "  #HTML parser object\n",
        "  p=HTMLTableParser()\n",
        "  p.feed(xhtml)\n",
        "  # Obtaining the data from the required table into a dataframe\n",
        "  df4 = pd.DataFrame(p.tables[2])\n",
        "  df4 = df4.replace({\"Add to Watchlist\": \"\"}, regex=True)\n",
        "  df4 = df4.replace({\"Add to Portfolio\": \"\"}, regex=True)\n",
        "  #Obtaining the csv file\n",
        "  df4.to_csv('Total_Assest_Iron_and_Steel.csv')"
      ],
      "metadata": {
        "id": "jtyjwD6dOT3Y"
      },
      "execution_count": 7,
      "outputs": []
    },
    {
      "cell_type": "code",
      "source": [
        "# Other Income as per the latest Profit & Loss Account available: df5\n",
        "def Other_Income():\n",
        "  xhtml=url_get_contents('https://www.moneycontrol.com/stocks/marketinfo/othinc/bse/iron-steel.html').decode('utf-8')\n",
        "  # HTML parser object\n",
        "  p=HTMLTableParser()\n",
        "  p.feed(xhtml)\n",
        "  # Obtaining the data from required table into the dataframe\n",
        "  df5=pd.DataFrame(p.tables[2])\n",
        "  df5=df5.replace({\"Add to Watchlist\":\"\"}, regex=True)\n",
        "  df5=df5.replace({\"Add to Portfolio\":\"\"}, regex=True)\n",
        "  # Obtaining csv\n",
        "  df5.to_csv('Other_Income_Iron_and_Steel.csv')"
      ],
      "metadata": {
        "id": "ivv84i-7PzHf"
      },
      "execution_count": 8,
      "outputs": []
    },
    {
      "cell_type": "code",
      "source": [
        "# Interest as per the latest Profit & Loss Account available: df6\n",
        "def Interest():\n",
        "  xhtml = url_get_contents('https://www.moneycontrol.com/stocks/marketinfo/interest/bse/iron-steel.html').decode('utf-8')\n",
        "  # HTML parser object\n",
        "  p = HTMLTableParser()\n",
        "  p.feed(xhtml)\n",
        "  # Obtaining the data from required table into the dataframe\n",
        "  df6=pd.DataFrame(p.tables[2])\n",
        "  df6=df6.replace({\"Add to Watchlist\":\"\"}, regex = True)\n",
        "  df6=df6.replace({\"Add to Portfolio\":\"\"}, regex = True)\n",
        "  # Obtaining csv \n",
        "  df6.to_csv('Interest_Iron_and_Steel.csv') "
      ],
      "metadata": {
        "id": "Wn0TN1fBSN0I"
      },
      "execution_count": 9,
      "outputs": []
    },
    {
      "cell_type": "code",
      "source": [
        "# Tax as per the latest Profit & Loss Account available: df7\n",
        "def Tax():\n",
        "  xhtml = url_get_contents('https://www.moneycontrol.com/stocks/marketinfo/tax/bse/iron-steel.html').decode('utf-8')\n",
        "  # HTML parser object\n",
        "  p = HTMLTableParser()\n",
        "  p.feed(xhtml)\n",
        "  # Obtaining the data from required table into the dataframe\n",
        "  df7=pd.DataFrame(p.tables[2])\n",
        "  df7=df7.replace({\"Add to Watchlist\":\"\"}, regex = True)\n",
        "  df7=df7.replace({\"Add to Portfolio\":\"\"}, regex = True)\n",
        "  # Obtaining csv\n",
        "  df7.to_csv('Tax_Iron_and_Steel.csv')"
      ],
      "metadata": {
        "id": "a7ocCpkSTtV9"
      },
      "execution_count": 10,
      "outputs": []
    },
    {
      "cell_type": "code",
      "source": [
        "# Trailing Twelve Months EPS: df8\n",
        "def Trailing_Twelve_Months_EPS():\n",
        "  xhtml = url_get_contents('https://www.moneycontrol.com/stocks/marketinfo/eps/bse/iron-steel.html').decode('utf-8')\n",
        "  # HTML parser object\n",
        "  p = HTMLTableParser()\n",
        "  p.feed(xhtml)\n",
        "  # Obtaining the data from required table into the dataframe\n",
        "  df8=pd.DataFrame(p.tables[2])\n",
        "  df8=df8.replace({\"Add to Watchlist\":\"\"}, regex = True)\n",
        "  df8=df8.replace({\"Add to Portfolio\":\"\"}, regex = True)\n",
        "  # Obtaining csv\n",
        "  df8.to_csv('EPS_Iron_and_Steel.csv')"
      ],
      "metadata": {
        "id": "FECHy17iUaID"
      },
      "execution_count": 11,
      "outputs": []
    },
    {
      "cell_type": "code",
      "source": [
        "# Sundry Debtors/Current Assets figures as per the latest Balance Sheet available: df9\n",
        "def Sundry_Debtors():\n",
        "  xhtml = url_get_contents('https://www.moneycontrol.com/stocks/marketinfo/sdrs/bse/iron-steel.html').decode('utf-8')\n",
        "  # HTML parser object\n",
        "  p = HTMLTableParser()\n",
        "  p.feed(xhtml)\n",
        "  # Obtaining the data from required table into the dataframe\n",
        "  df9=pd.DataFrame(p.tables[2])\n",
        "  df9=df9.replace({\"Add to Watchlist\":\"\"}, regex = True)\n",
        "  df9=df9.replace({\"Add to Portfolio\":\"\"}, regex = True)\n",
        "  # Obtaining csv\n",
        "  df9.to_csv('Sundry Debtors_Iron_and_Steel.csv') "
      ],
      "metadata": {
        "id": "5G-zdoyWU6Lg"
      },
      "execution_count": 12,
      "outputs": []
    },
    {
      "cell_type": "code",
      "source": [
        "# Cash & Bank Balances/Total Liabilities figures as per the latest Balance Sheet available: df10\n",
        "def Cash_and_Bank_Balances():\n",
        "  xhtml = url_get_contents('https://www.moneycontrol.com/stocks/marketinfo/cashbank/bse/iron-steel.html').decode('utf-8')\n",
        "  # HTML parser object\n",
        "  p = HTMLTableParser()\n",
        "  p.feed(xhtml)\n",
        "  # Obtaining the data from required table into the dataframe\n",
        "  df10=pd.DataFrame(p.tables[2])\n",
        "  df10=df10.replace({\"Add to Watchlist\":\"\"}, regex = True)\n",
        "  df10=df10.replace({\"Add to Portfolio\":\"\"}, regex = True)\n",
        "  # Obtaining csv\n",
        "  df10.to_csv('Cash_&_Bank_Balances_Iron_and_Steel.csv')    "
      ],
      "metadata": {
        "id": "fIf_GjPNVgUd"
      },
      "execution_count": 13,
      "outputs": []
    },
    {
      "cell_type": "code",
      "source": [
        "# Inventory/Current Assets figures as per the latest Balance Sheet available: df11\n",
        "def Current_Assets():\n",
        "  xhtml = url_get_contents('https://www.moneycontrol.com/stocks/marketinfo/inventory/bse/iron-steel.html').decode('utf-8')\n",
        "  #HTML parser object\n",
        "  p = HTMLTableParser()\n",
        "  p.feed(xhtml)\n",
        "  # Obtaining the data from required table into the dataframe\n",
        "  df11=pd.DataFrame(p.tables[2])\n",
        "  df11=df11.replace({\"Add to Watchlist\":\"\"}, regex = True)\n",
        "  df11=df11.replace({\"Add to Portfolio\":\"\"}, regex = True) \n",
        "  # Obtaining csv\n",
        "  df11.to_csv('Inventory_Iron_and_Steel.csv')    "
      ],
      "metadata": {
        "id": "7TBIS6BpXaGT"
      },
      "execution_count": 14,
      "outputs": []
    },
    {
      "cell_type": "code",
      "source": [
        "# Debt/Liability figures as per the latest Balance Sheet available: df12\n",
        "def Debt():\n",
        "  xhtml = url_get_contents('https://www.moneycontrol.com/stocks/marketinfo/debt/bse/iron-steel.html').decode('utf-8')\n",
        "  # HTML parser object\n",
        "  p = HTMLTableParser()\n",
        "  p.feed(xhtml)\n",
        "  # Obtaining the data from required table into the dataframe\n",
        "  df12=pd.DataFrame(p.tables[2])\n",
        "  df12=df12.replace({\"Add to Watchlist\":\"\"}, regex = True)\n",
        "  df12=df12.replace({\"Add to Portfolio\":\"\"}, regex = True) \n",
        "  # Obtaining csv\n",
        "  df12.to_csv('Debt_Iron_and_Steel.csv')    "
      ],
      "metadata": {
        "id": "uSCDR3obYAtv"
      },
      "execution_count": 15,
      "outputs": []
    },
    {
      "cell_type": "code",
      "source": [
        "# Contingent Liabilities/Networth figures as per the latest Balance Sheet available: df13\n",
        "def Contingent_Liabilities():\n",
        "  xhtml = url_get_contents('https://www.moneycontrol.com/stocks/marketinfo/contliab/bse/iron-steel.html').decode('utf-8')\n",
        "  #HTML parser object\n",
        "  p = HTMLTableParser()\n",
        "  p.feed(xhtml)\n",
        "  # Obtaining the data from required table into the dataframe\n",
        "  df13=pd.DataFrame(p.tables[2])\n",
        "  df13=df13.replace({\"Add to Watchlist\":\"\"}, regex = True)\n",
        "  df13=df13.replace({\"Add to Portfolio\":\"\"}, regex = True) \n",
        "  # Obtaining csv\n",
        "  df13.to_csv('Contingent_Liabilities_Iron_and_Steel.csv')    "
      ],
      "metadata": {
        "id": "41unwr8MYkUG"
      },
      "execution_count": 16,
      "outputs": []
    },
    {
      "cell_type": "code",
      "source": [
        "# Driver Function\n",
        "print('Category: IRON AND STEEL')\n",
        "print('Select the criteria in which you want to categorize the companies:')\n",
        "print('1: Net Sales')\n",
        "print('2: Net Profit')\n",
        "print('3: Market Capitalization')\n",
        "print('4: Total Assets')\n",
        "print('5: Other Income')\n",
        "print('6: Interest')\n",
        "print('7: Tax')\n",
        "print('8: EPS')\n",
        "print('9: Sundry Debtors/Current Assets')\n",
        "print('10: Cash & Bank Balances/Total Liabilities')\n",
        "print('11: Inventory/Current Assets')\n",
        "print('12: Debt/Liability')\n",
        "print('13: Contingent Liabilities/Networth')\n",
        "n = int(input('Enter your choice!'))\n",
        "if n==1:\n",
        "  Net_Sales()\n",
        "elif n==2:\n",
        "  Net_Profit()\n",
        "elif n==3:\n",
        "  Market_Capitalization()\n",
        "elif n==4:\n",
        "  Total_Assets()\n",
        "elif n==5:\n",
        "  Other_Income()\n",
        "elif n==6:\n",
        "  Interest()\n",
        "elif n==7:\n",
        "  Tax()\n",
        "elif n==8:\n",
        "  Trailing_Twelve_Months_EPS()\n",
        "elif n==9:\n",
        "  Sundry_Debtors()\n",
        "elif n==10:\n",
        "  Cash_and_Bank_Balances()\n",
        "elif n==11:\n",
        "  Current_Assets()\n",
        "elif n==12:\n",
        "  Debt()\n",
        "elif n==13:\n",
        "  Contingent_Liabilities()\n",
        "else:\n",
        "  print('Sorry! Wrong choice of category!')"
      ],
      "metadata": {
        "id": "a77squY-YwH8",
        "colab": {
          "base_uri": "https://localhost:8080/"
        },
        "outputId": "1828f65c-a9e9-419b-e12d-394a263dc6fa"
      },
      "execution_count": 17,
      "outputs": [
        {
          "name": "stdout",
          "output_type": "stream",
          "text": [
            "Category: IRON AND STEEL\n",
            "Select the criteria in which you want to categorize the companies:\n",
            "1: Net Sales\n",
            "2: Net Profit\n",
            "3: Market Capitalization\n",
            "4: Total Assets\n",
            "5: Other Income\n",
            "6: Interest\n",
            "7: Tax\n",
            "8: EPS\n",
            "9: Sundry Debtors/Current Assets\n",
            "10: Cash & Bank Balances/Total Liabilities\n",
            "11: Inventory/Current Assets\n",
            "12: Debt/Liability\n",
            "13: Contingent Liabilities/Networth\n",
            "Enter your choice!6\n"
          ]
        }
      ]
    },
    {
      "cell_type": "code",
      "source": [
        ""
      ],
      "metadata": {
        "id": "XdXf6uOZALsg"
      },
      "execution_count": null,
      "outputs": []
    }
  ]
}